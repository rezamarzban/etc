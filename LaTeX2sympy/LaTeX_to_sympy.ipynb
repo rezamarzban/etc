{
  "cells": [
    {
      "cell_type": "markdown",
      "metadata": {
        "id": "view-in-github",
        "colab_type": "text"
      },
      "source": [
        "<a href=\"https://colab.research.google.com/github/rezamarzban/LaTeX2sympy/blob/main/LaTeX_to_sympy.ipynb\" target=\"_parent\"><img src=\"https://colab.research.google.com/assets/colab-badge.svg\" alt=\"Open In Colab\"/></a>"
      ]
    },
    {
      "cell_type": "code",
      "source": [
        "!pip install latex2sympy2"
      ],
      "metadata": {
        "id": "rl6__UhIjp0S",
        "outputId": "4054822e-7ef9-4e3c-fd92-5b947d44cfb7",
        "colab": {
          "base_uri": "https://localhost:8080/"
        }
      },
      "execution_count": null,
      "outputs": [
        {
          "output_type": "stream",
          "name": "stdout",
          "text": [
            "Collecting latex2sympy2\n",
            "  Downloading latex2sympy2-1.9.1-py3-none-any.whl (89 kB)\n",
            "\u001b[2K     \u001b[90m━━━━━━━━━━━━━━━━━━━━━━━━━━━━━━━━━━━━━━━━\u001b[0m \u001b[32m89.8/89.8 kB\u001b[0m \u001b[31m2.9 MB/s\u001b[0m eta \u001b[36m0:00:00\u001b[0m\n",
            "\u001b[?25hRequirement already satisfied: sympy>=1.4 in /usr/local/lib/python3.10/dist-packages (from latex2sympy2) (1.12)\n",
            "Collecting antlr4-python3-runtime==4.7.2 (from latex2sympy2)\n",
            "  Downloading antlr4-python3-runtime-4.7.2.tar.gz (112 kB)\n",
            "\u001b[2K     \u001b[90m━━━━━━━━━━━━━━━━━━━━━━━━━━━━━━━━━━━━━━━━\u001b[0m \u001b[32m112.3/112.3 kB\u001b[0m \u001b[31m8.0 MB/s\u001b[0m eta \u001b[36m0:00:00\u001b[0m\n",
            "\u001b[?25h  Preparing metadata (setup.py) ... \u001b[?25l\u001b[?25hdone\n",
            "Requirement already satisfied: mpmath>=0.19 in /usr/local/lib/python3.10/dist-packages (from sympy>=1.4->latex2sympy2) (1.3.0)\n",
            "Building wheels for collected packages: antlr4-python3-runtime\n",
            "  Building wheel for antlr4-python3-runtime (setup.py) ... \u001b[?25l\u001b[?25hdone\n",
            "  Created wheel for antlr4-python3-runtime: filename=antlr4_python3_runtime-4.7.2-py3-none-any.whl size=140930 sha256=3ba3c62ccba5a9494a956a355f83663bdcfe042c33d480cf35e6c0fa7b5f67cb\n",
            "  Stored in directory: /root/.cache/pip/wheels/79/20/ec/30bf7dabc29319ccc0d0c96f910a640513a3c81faa960fed43\n",
            "Successfully built antlr4-python3-runtime\n",
            "Installing collected packages: antlr4-python3-runtime, latex2sympy2\n",
            "Successfully installed antlr4-python3-runtime-4.7.2 latex2sympy2-1.9.1\n"
          ]
        }
      ]
    },
    {
      "cell_type": "code",
      "source": [
        "from latex2sympy2 import latex2sympy\n",
        "\n",
        "tex1 = r\"\\frac{-\\eta}{2 \\pi \\sin ^2 \\beta h}\"\n",
        "tex2 = r\"\\int_a^{\\infty} \\frac{e^{-j 2 \\beta r}}{\\rho} d \\rho\"\n",
        "tex3 = r\"-2 \\cos \\beta h \\int_a^{\\infty} \\frac{e^{-j \\beta(r+\\rho)}}{\\rho} d \\rho\"\n",
        "tex4 = r\"-\\cos ^2 \\beta h \\int_a^{\\infty} \\frac{e^{-j 2 \\beta \\rho}}{\\rho} d \\rho\"\n",
        "\n",
        "expr1 = latex2sympy(tex1)\n",
        "expr2 = latex2sympy(tex2)\n",
        "expr3 = latex2sympy(tex3)\n",
        "expr4 = latex2sympy(tex4)\n",
        "\n",
        "print(expr1)\n",
        "print(expr2)\n",
        "print(expr3)\n",
        "print(expr4)"
      ],
      "metadata": {
        "id": "q58sCF5fjq9u",
        "outputId": "55ba4ad6-80ba-4dbf-e75d-7f09539236e2",
        "colab": {
          "base_uri": "https://localhost:8080/"
        }
      },
      "execution_count": null,
      "outputs": [
        {
          "output_type": "stream",
          "name": "stdout",
          "text": [
            "(-eta)/((2*pi*sin(beta*h)**2))\n",
            "Integral(exp(-1*j*2*beta*r)/rho, (rho, a, oo))\n",
            "-1*2*cos(beta*h)*Integral(exp(-beta*j*(r + rho))/rho, (rho, a, oo))\n",
            "-cos(beta*h)**2*Integral(exp(-1*j*2*beta*rho)/rho, (rho, a, oo))\n"
          ]
        }
      ]
    },
    {
      "cell_type": "code",
      "source": [
        "from sympy import init_printing\n",
        "init_printing()"
      ],
      "metadata": {
        "id": "A1OZeoLLrFXK"
      },
      "execution_count": null,
      "outputs": []
    },
    {
      "cell_type": "code",
      "source": [
        "expr1"
      ],
      "metadata": {
        "id": "mR4vqQXGrGw3",
        "outputId": "366272f8-3b69-487c-d52a-3b0d5a714e7a",
        "colab": {
          "base_uri": "https://localhost:8080/",
          "height": 58
        }
      },
      "execution_count": null,
      "outputs": [
        {
          "output_type": "execute_result",
          "data": {
            "text/plain": [
              "     -η      \n",
              "─────────────\n",
              "       2     \n",
              "2⋅π⋅sin (β⋅h)"
            ],
            "text/latex": "$\\displaystyle \\frac{\\left(-1\\right) \\eta}{2 \\pi \\sin^{2}{\\left(\\beta h \\right)}}$"
          },
          "metadata": {},
          "execution_count": 6
        }
      ]
    },
    {
      "cell_type": "code",
      "source": [
        "expr2"
      ],
      "metadata": {
        "id": "ZVr3jgNsrJyd",
        "outputId": "b3c5243c-f898-4aaa-9e33-5a5591a61370",
        "colab": {
          "base_uri": "https://localhost:8080/",
          "height": 77
        }
      },
      "execution_count": null,
      "outputs": [
        {
          "output_type": "execute_result",
          "data": {
            "text/plain": [
              "∞               \n",
              "⌠               \n",
              "⎮  -1⋅j⋅2⋅β⋅r   \n",
              "⎮ ℯ             \n",
              "⎮ ─────────── dρ\n",
              "⎮      ρ        \n",
              "⌡               \n",
              "a               "
            ],
            "text/latex": "$\\displaystyle \\int\\limits_{a}^{\\infty} \\frac{e^{\\left(-1\\right) j 2 \\beta r}}{\\rho}\\, d\\rho$"
          },
          "metadata": {},
          "execution_count": 7
        }
      ]
    },
    {
      "cell_type": "code",
      "source": [
        "expr3"
      ],
      "metadata": {
        "id": "Lh1RJ5kwrNRg",
        "outputId": "f2eaff76-2c5e-4098-8e1b-5543369814c1",
        "colab": {
          "base_uri": "https://localhost:8080/",
          "height": 77
        }
      },
      "execution_count": null,
      "outputs": [
        {
          "output_type": "execute_result",
          "data": {
            "text/plain": [
              "-             ∞                 \n",
              "             ⌠                  \n",
              "             ⎮  -β⋅j⋅(r + ρ)    \n",
              "             ⎮ ℯ                \n",
              "1⋅2⋅cos(β⋅h)⋅⎮ ───────────── dρ \n",
              "             ⎮       ρ          \n",
              "             ⌡                  \n",
              "             a                  "
            ],
            "text/latex": "$\\displaystyle \\left(-1\\right) 2 \\cos{\\left(\\beta h \\right)} \\int\\limits_{a}^{\\infty} \\frac{e^{- \\beta j \\left(r + \\rho\\right)}}{\\rho}\\, d\\rho$"
          },
          "metadata": {},
          "execution_count": 8
        }
      ]
    },
    {
      "cell_type": "code",
      "source": [
        "expr4"
      ],
      "metadata": {
        "id": "A72mAnW3rQrR",
        "outputId": "7ff8b2c9-3f76-4bfc-eeb0-2dcca622df05",
        "colab": {
          "base_uri": "https://localhost:8080/",
          "height": 77
        }
      },
      "execution_count": null,
      "outputs": [
        {
          "output_type": "execute_result",
          "data": {
            "text/plain": [
              "           ∞               \n",
              "           ⌠               \n",
              "           ⎮  -1⋅j⋅2⋅β⋅ρ   \n",
              "    2      ⎮ ℯ             \n",
              "-cos (β⋅h)⋅⎮ ─────────── dρ\n",
              "           ⎮      ρ        \n",
              "           ⌡               \n",
              "           a               "
            ],
            "text/latex": "$\\displaystyle - \\cos^{2}{\\left(\\beta h \\right)} \\int\\limits_{a}^{\\infty} \\frac{e^{\\left(-1\\right) j 2 \\beta \\rho}}{\\rho}\\, d\\rho$"
          },
          "metadata": {},
          "execution_count": 9
        }
      ]
    }
  ],
  "metadata": {
    "colab": {
      "provenance": [],
      "include_colab_link": true
    },
    "kernelspec": {
      "display_name": "Python 3",
      "name": "python3"
    }
  },
  "nbformat": 4,
  "nbformat_minor": 0
}